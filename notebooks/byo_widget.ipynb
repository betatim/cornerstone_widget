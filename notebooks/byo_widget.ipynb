{
 "cells": [
  {
   "cell_type": "markdown",
   "metadata": {},
   "source": [
    "# Build Your Own IPyWidget\n",
    "The notebook here shows how to build your own widget using an existing JS library from scratch inside a jupyter notebook. This is not a complete guide and leaves out testing completely, but it is maybe a useful step between an idea and the great [cookiecutter widget project](https://github.com/jupyter-widgets/widget-cookiecutter)"
   ]
  },
  {
   "cell_type": "code",
   "execution_count": null,
   "metadata": {},
   "outputs": [],
   "source": [
    "import numpy as np\n",
    "import base64\n",
    "\n",
    "def encode_numpy_b64(in_img):\n",
    "    # type: (np.ndarray) -> str\n",
    "    \"\"\"\n",
    "    Encode numpy arrays as b64 strings\n",
    "    :param in_img:\n",
    "    :return:\n",
    "    >>> encode_numpy_b64(np.eye(2))\n",
    "    'AAAAAAAA8D8AAAAAAAAAAAAAAAAAAAAAAAAAAAAA8D8='\n",
    "    \"\"\"\n",
    "    u16_img = in_img.astype(np.uint16).tobytes()\n",
    "    return base64.b64encode(u16_img).decode()"
   ]
  },
  {
   "cell_type": "markdown",
   "metadata": {},
   "source": [
    "## Python Side of a Widget\n",
    "Here we make the python side of a widget where we create the name, module and the relevant fields we might want to change (the bridge between python and JS) called traitlets."
   ]
  },
  {
   "cell_type": "code",
   "execution_count": null,
   "metadata": {},
   "outputs": [],
   "source": [
    "import traitlets as tr\n",
    "import ipywidgets as widgets\n",
    "class CornerstoneWidget(widgets.DOMWidget):\n",
    "    _view_name = tr.Unicode('CornerstoneWidget').tag(sync=True)\n",
    "    _view_module = tr.Unicode('cs_widget').tag(sync=True)\n",
    "    _view_module_version = tr.Unicode('0.1.0').tag(sync=True)\n",
    "    title_field = tr.Unicode('Awesome Widget').tag(sync=True)\n",
    "    img_bytes = tr.Unicode('AQAAAAAAAAABAAAAAAAAAAEA').tag(sync=True)\n",
    "    img_width = tr.Int(3).tag(sync=True)\n",
    "    img_height = tr.Int(3).tag(sync=True)\n",
    "    img_min = tr.Float(0).tag(sync=True)\n",
    "    img_max = tr.Float(255).tag(sync=True)\n",
    "    img_scale = tr.Float(1.0).tag(sync=True)\n",
    "    \n",
    "    def update_image(self, in_image):\n",
    "        # type: (CornerstoneWidget, np.ndarray) -> None\n",
    "        \"\"\"\n",
    "        Update the image loaded in the widget\n",
    "        \"\"\"\n",
    "        (self.img_width, self.img_height) = in_image.shape\n",
    "        self.img_min = float(in_image.min())\n",
    "        self.img_max = float(in_image.max())\n",
    "\n",
    "        rs_image = (in_image - self.img_min)\n",
    "        im_range = self.img_max - self.img_min\n",
    "        MIN_RANGE = 1\n",
    "        if im_range<MIN_RANGE:\n",
    "            self.img_max = self.img_min+MIN_RANGE\n",
    "            im_range = MIN_RANGE\n",
    "        rs_image*=(2 ** 16 - 1)/im_range\n",
    "        self.img_bytes = encode_numpy_b64(rs_image)\n",
    "        self.img_scale = 1.0"
   ]
  },
  {
   "cell_type": "markdown",
   "metadata": {},
   "source": [
    "# JavaScript\n",
    "The javascript portion starts using the requirejs tools built into jupyter to get our dependencies (<source> tags sometimes work but are hard to translate to a full self-contained project). Notice here we had to create a `shim` for _cornerstone-core_ since it isn't a standard package. Also notice the missing prefix of `http://` and `.js` at the end. RequireJS just does it like this, no idea why."
   ]
  },
  {
   "cell_type": "code",
   "execution_count": null,
   "metadata": {},
   "outputs": [],
   "source": [
    "%%javascript\n",
    "require.config({\n",
    "  paths: {\n",
    "      'cornerstone-core': '//unpkg.com/cornerstone-core@2.2.4/dist/cornerstone.min',\n",
    "      cornerstoneMath: '//unpkg.com/cornerstone-math@0.1.6/dist/cornerstoneMath.min',\n",
    "      cornerstoneTools: '//unpkg.com/cornerstone-tools@2.3.9/dist/cornerstoneTools.min'\n",
    "  },\n",
    "    shim: {\n",
    "        'cornerstone-core': {\n",
    "            exports: 'cornerstone',\n",
    "            deps: ['jquery']\n",
    "        }\n",
    "    }\n",
    "});"
   ]
  },
  {
   "cell_type": "markdown",
   "metadata": {},
   "source": [
    "## The JS WIdget\n",
    "Here we create the full JS widget including the dependencies we defined before. If there is a problem with the dependency definition, the dependency object will sometimes be loaded as nil/None and so if your widget does not work be sure to check this."
   ]
  },
  {
   "cell_type": "code",
   "execution_count": null,
   "metadata": {},
   "outputs": [],
   "source": [
    "%%javascript\n",
    "require.undef('cs_widget');\n",
    "define('cs_widget', [\"@jupyter-widgets/base\", \"cornerstone-core\",\n",
    "                    'cornerstoneMath', 'cornerstoneTools'], \n",
    "       function(widgets, cs, cm, ctools) {\n",
    "            ctools.external.cornerstone = cs;\n",
    "            ctools.external.cornerstoneMath = cm;\n",
    "    var CornerstoneWidget = widgets.DOMWidgetView.extend({\n",
    "\n",
    "        render: function() {\n",
    "            this.message = document.createElement('div')\n",
    "            this.viewer = document.createElement('div')\n",
    "            var fv = $(this.viewer)\n",
    "            fv.width('512px');\n",
    "            fv.height('512px');\n",
    "            // Enable our tools\n",
    "            this.el.appendChild(this.message);\n",
    "            this.el.appendChild(this.viewer);\n",
    "            this.model.on('change:img_bytes', this.dicom_changed, this);\n",
    "            this.model.on('change:img_scale', this.zoom_changed, this);\n",
    "            this.model.on('change:title_field', this.message_changed, this);\n",
    "        },\n",
    "        \n",
    "        parse_image: function(imageB64Data, width, height, min_val, max_val) {\n",
    "            function str2ab(str) {\n",
    "                var buf = new ArrayBuffer(str.length*2); // 2 bytes for each char\n",
    "                var bufView = new Uint16Array(buf);\n",
    "                var index = 0;\n",
    "                for (var i=0, strLen=str.length; i<strLen; i+=2) {\n",
    "                    var lower = str.charCodeAt(i);\n",
    "                    var upper = str.charCodeAt(i+1);\n",
    "                    bufView[index] = lower + (upper <<8);\n",
    "                    index++;\n",
    "                }\n",
    "                return bufView;\n",
    "            }\n",
    "            function parsePixelData(base64PixelData, width, height)\n",
    "            {\n",
    "                var pixelDataAsString = window.atob(base64PixelData);\n",
    "                var pixelData = str2ab(pixelDataAsString);\n",
    "                return pixelData;\n",
    "            }\n",
    "            var imagePixelData = parsePixelData(imageB64Data);\n",
    "            console.log('decoding: '+width+'x'+height+' => '+imagePixelData.length)\n",
    "            function getPixelData() {\n",
    "                return imagePixelData;\n",
    "            }\n",
    "            \n",
    "            return {\n",
    "                imageId: '',\n",
    "                minPixelValue: 0,\n",
    "                maxPixelValue: 65535,\n",
    "                slope: (max_val-min_val)/65535.0,\n",
    "                intercept: min_val,\n",
    "                getPixelData: getPixelData,\n",
    "                windowCenter: 0.5 * (max_val + min_val),\n",
    "                windowWidth: 0.5 * (max_val - min_val),\n",
    "                rows: width,\n",
    "                columns: height,\n",
    "                height: height,\n",
    "                width: width,\n",
    "                color: false,\n",
    "                columnPixelSpacing: 1.0,\n",
    "                rowPixelSpacing: 1.0,\n",
    "                sizeInBytes: height * width * 2\n",
    "            };\n",
    "        },\n",
    "        \n",
    "        message_changed: function() {\n",
    "            this.message.textContent = this.model.get('title_field');\n",
    "        },\n",
    "        \n",
    "        dicom_changed: function() {\n",
    "            var img_bytes = this.model.get('img_bytes')\n",
    "            var img_width = this.model.get('img_width')\n",
    "            var img_height = this.model.get('img_height')\n",
    "            var img_min = this.model.get('img_min')\n",
    "            var img_max = this.model.get('img_max')\n",
    "            var out_img = this.parse_image(img_bytes, img_width, img_height, img_min, img_max);\n",
    "            cs.enable(this.viewer);\n",
    "            this.viewport = cs.getDefaultViewportForImage(this.viewer, out_img);\n",
    "            console.log(out_img);\n",
    "            cs.displayImage(this.viewer, out_img, this.viewport);\n",
    "            ctools.mouseInput.enable(this.viewer);\n",
    "            ctools.mouseWheelInput.enable(this.viewer);\n",
    "            ctools.wwwc.activate(this.viewer, 1); // Left Click\n",
    "            ctools.pan.activate(this.viewer, 2); // Middle Click\n",
    "            ctools.zoom.activate(this.viewer, 4); // Right Click\n",
    "            ctools.zoomWheel.activate(this.viewer); // Mouse Wheel\n",
    "        },\n",
    "        \n",
    "        zoom_changed: function() {\n",
    "            this.viewport.scale = this.model.get('img_scale');\n",
    "            cs.setViewport(this.viewer, this.viewport);\n",
    "        }\n",
    "    });\n",
    "\n",
    "    return {\n",
    "        CornerstoneWidget : CornerstoneWidget\n",
    "    };\n",
    "});"
   ]
  },
  {
   "cell_type": "markdown",
   "metadata": {},
   "source": [
    "# Make the Widget"
   ]
  },
  {
   "cell_type": "code",
   "execution_count": null,
   "metadata": {},
   "outputs": [],
   "source": [
    "cs_view = CornerstoneWidget()\n",
    "cs_view.title_field = 'Cornerstone Widget'"
   ]
  },
  {
   "cell_type": "markdown",
   "metadata": {},
   "source": [
    "## Create Callbacks\n",
    "Here we make the callbacks for showing the image and zooming"
   ]
  },
  {
   "cell_type": "code",
   "execution_count": null,
   "metadata": {
    "scrolled": true
   },
   "outputs": [],
   "source": [
    "from IPython.display import Javascript, display\n",
    "import ipywidgets as ipw\n",
    "size_scroller = ipw.IntSlider(value=128, min=3, max=2048, description='Image Size')\n",
    "def show_image(cs_obj, img_maker):\n",
    "    c_wid = size_scroller.value\n",
    "    cs_obj.update_image(img_maker(c_wid))\n",
    "\n",
    "def zoom_viewer(cs_obj, zf):\n",
    "    cs_obj.img_scale+=zf"
   ]
  },
  {
   "cell_type": "code",
   "execution_count": null,
   "metadata": {},
   "outputs": [],
   "source": [
    "noisy_img_but = ipw.Button(description='Noisy Image')\n",
    "noisy_image = lambda x: np.random.uniform(-1000, 1000, size=(x, x))\n",
    "noisy_img_but.on_click(lambda *args: show_image(cs_view, \n",
    "                                                noisy_image))\n",
    "\n",
    "gradient_img_but = ipw.Button(description='Gradient Image')\n",
    "gradient_image = lambda x: np.linspace(-1, 1, x*x).reshape((x, x))\n",
    "gradient_img_but.on_click(lambda *args: show_image(cs_view, \n",
    "                                                gradient_image))\n",
    "\n",
    "half_img_but = ipw.Button(description='Half Image')\n",
    "half_image = lambda x: np.eye(x)[:x//2]\n",
    "half_img_but.on_click(lambda *args: show_image(cs_view, half_image))\n",
    "\n",
    "zoom_in_but = ipw.Button(description='Zoom In')\n",
    "zoom_in_but.on_click(lambda *args: zoom_viewer(cs_view, 0.25))\n",
    "zoom_out_but = ipw.Button(description='Zoom Out')\n",
    "zoom_out_but.on_click(lambda *args: zoom_viewer(cs_view, -0.25))"
   ]
  },
  {
   "cell_type": "markdown",
   "metadata": {},
   "source": [
    "# Make a Nice Panel\n",
    "Here we show the widget with a few buttons to interact with."
   ]
  },
  {
   "cell_type": "code",
   "execution_count": null,
   "metadata": {},
   "outputs": [],
   "source": [
    "ipw.VBox([\n",
    "    cs_view,\n",
    "    ipw.HBox([\n",
    "        size_scroller,\n",
    "        ipw.VBox([noisy_img_but, half_img_but, gradient_img_but]),\n",
    "        ipw.VBox([zoom_in_but, zoom_out_but])\n",
    "    ])\n",
    "])"
   ]
  },
  {
   "cell_type": "code",
   "execution_count": null,
   "metadata": {},
   "outputs": [],
   "source": []
  }
 ],
 "metadata": {
  "kernel_info": {
   "name": "python3"
  },
  "kernelspec": {
   "display_name": "Python [default]",
   "language": "python",
   "name": "python3"
  },
  "language_info": {
   "codemirror_mode": {
    "name": "ipython",
    "version": 3
   },
   "file_extension": ".py",
   "mimetype": "text/x-python",
   "name": "python",
   "nbconvert_exporter": "python",
   "pygments_lexer": "ipython3",
   "version": "3.6.5"
  },
  "nteract": {
   "version": "0.11.6"
  }
 },
 "nbformat": 4,
 "nbformat_minor": 2
}
